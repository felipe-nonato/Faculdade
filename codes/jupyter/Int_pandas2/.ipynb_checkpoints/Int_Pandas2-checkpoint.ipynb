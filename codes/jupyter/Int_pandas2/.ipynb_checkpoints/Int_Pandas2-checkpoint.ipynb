{
 "cells": [
  {
   "cell_type": "markdown",
   "id": "1b5df548-3e51-4bd1-92a3-4dbab59cc9b4",
   "metadata": {},
   "source": [
    "# Pandas (continuação)"
   ]
  },
  {
   "cell_type": "code",
   "execution_count": 3,
   "id": "a122ea8a-7614-4faf-97d6-2c8721090b92",
   "metadata": {},
   "outputs": [],
   "source": [
    "import pandas as pd\n",
    "import numpy as np"
   ]
  },
  {
   "cell_type": "markdown",
   "id": "790ebacc-f79a-47a0-9ba9-c897cda66bfe",
   "metadata": {},
   "source": [
    "Operações típicas de manipulação\n",
    "\n",
    "* Ordenar os registros da tabela.\n",
    "* Selecionar e fatiar nos índices/eixos.\n",
    "* Filtrar registros por predicado.\n",
    "* Renomear os índices/eixos.\n",
    "* Modificar a disposição do conteúdo.\n",
    "* Modificar/transformar o conteúdo.\n",
    "* Aplicar funções/calcular medidas resumo.\n",
    "* Agregar por categorias e aplicar.\n",
    "* Concatenar tabelas.\n",
    "* Juntar ou conciliar tabelas."
   ]
  },
  {
   "cell_type": "markdown",
   "id": "a8873794-7f0f-47d8-8fc8-3d984cdb53ce",
   "metadata": {},
   "source": [
    "Vamos considerar no nosso primeiro exemplo de hoje, o seguinte dataframe"
   ]
  },
  {
   "cell_type": "code",
   "execution_count": 4,
   "id": "b553374f-4efb-488c-bcf9-8f73e02b7cbc",
   "metadata": {},
   "outputs": [],
   "source": [
    "df = pd.DataFrame({\n",
    "\"matricula\": [256, 487, 965, 125, 458, 874, 963],\n",
    "\"nome\": [\"João\", \"Vanessa\", \"Tiago\", \"Luana\", \"Gisele\",\n",
    "\"Pedro\", \"André\"],\n",
    "\"curso\": [\"Mat\", \"Mat\", \"Est\", \"Est\", \"Est\", \"Mat\", \"Est\"],\n",
    "\"prova1\": [80, 75, 95, 70, 45, 55, 30],\n",
    "\"prova2\": [90, 75, 80, 85, 50, 75, None],\n",
    "\"prova3\": [80, 75, 75, 50, None, 90, 30],\n",
    "\"faltas\": [4, 4, 0, 8, 16, 0, 20]},\n",
    "index = list(range(1, 8)))"
   ]
  },
  {
   "cell_type": "code",
   "execution_count": 5,
   "id": "e60b4a4c-cb26-49d3-b6c3-300175c4cda6",
   "metadata": {},
   "outputs": [
    {
     "data": {
      "text/html": [
       "<div>\n",
       "<style scoped>\n",
       "    .dataframe tbody tr th:only-of-type {\n",
       "        vertical-align: middle;\n",
       "    }\n",
       "\n",
       "    .dataframe tbody tr th {\n",
       "        vertical-align: top;\n",
       "    }\n",
       "\n",
       "    .dataframe thead th {\n",
       "        text-align: right;\n",
       "    }\n",
       "</style>\n",
       "<table border=\"1\" class=\"dataframe\">\n",
       "  <thead>\n",
       "    <tr style=\"text-align: right;\">\n",
       "      <th></th>\n",
       "      <th>matricula</th>\n",
       "      <th>nome</th>\n",
       "      <th>curso</th>\n",
       "      <th>prova1</th>\n",
       "      <th>prova2</th>\n",
       "      <th>prova3</th>\n",
       "      <th>faltas</th>\n",
       "    </tr>\n",
       "  </thead>\n",
       "  <tbody>\n",
       "    <tr>\n",
       "      <th>1</th>\n",
       "      <td>256</td>\n",
       "      <td>João</td>\n",
       "      <td>Mat</td>\n",
       "      <td>80</td>\n",
       "      <td>90.0</td>\n",
       "      <td>80.0</td>\n",
       "      <td>4</td>\n",
       "    </tr>\n",
       "    <tr>\n",
       "      <th>2</th>\n",
       "      <td>487</td>\n",
       "      <td>Vanessa</td>\n",
       "      <td>Mat</td>\n",
       "      <td>75</td>\n",
       "      <td>75.0</td>\n",
       "      <td>75.0</td>\n",
       "      <td>4</td>\n",
       "    </tr>\n",
       "    <tr>\n",
       "      <th>3</th>\n",
       "      <td>965</td>\n",
       "      <td>Tiago</td>\n",
       "      <td>Est</td>\n",
       "      <td>95</td>\n",
       "      <td>80.0</td>\n",
       "      <td>75.0</td>\n",
       "      <td>0</td>\n",
       "    </tr>\n",
       "    <tr>\n",
       "      <th>4</th>\n",
       "      <td>125</td>\n",
       "      <td>Luana</td>\n",
       "      <td>Est</td>\n",
       "      <td>70</td>\n",
       "      <td>85.0</td>\n",
       "      <td>50.0</td>\n",
       "      <td>8</td>\n",
       "    </tr>\n",
       "    <tr>\n",
       "      <th>5</th>\n",
       "      <td>458</td>\n",
       "      <td>Gisele</td>\n",
       "      <td>Est</td>\n",
       "      <td>45</td>\n",
       "      <td>50.0</td>\n",
       "      <td>NaN</td>\n",
       "      <td>16</td>\n",
       "    </tr>\n",
       "    <tr>\n",
       "      <th>6</th>\n",
       "      <td>874</td>\n",
       "      <td>Pedro</td>\n",
       "      <td>Mat</td>\n",
       "      <td>55</td>\n",
       "      <td>75.0</td>\n",
       "      <td>90.0</td>\n",
       "      <td>0</td>\n",
       "    </tr>\n",
       "    <tr>\n",
       "      <th>7</th>\n",
       "      <td>963</td>\n",
       "      <td>André</td>\n",
       "      <td>Est</td>\n",
       "      <td>30</td>\n",
       "      <td>NaN</td>\n",
       "      <td>30.0</td>\n",
       "      <td>20</td>\n",
       "    </tr>\n",
       "  </tbody>\n",
       "</table>\n",
       "</div>"
      ],
      "text/plain": [
       "   matricula     nome curso  prova1  prova2  prova3  faltas\n",
       "1        256     João   Mat      80    90.0    80.0       4\n",
       "2        487  Vanessa   Mat      75    75.0    75.0       4\n",
       "3        965    Tiago   Est      95    80.0    75.0       0\n",
       "4        125    Luana   Est      70    85.0    50.0       8\n",
       "5        458   Gisele   Est      45    50.0     NaN      16\n",
       "6        874    Pedro   Mat      55    75.0    90.0       0\n",
       "7        963    André   Est      30     NaN    30.0      20"
      ]
     },
     "execution_count": 5,
     "metadata": {},
     "output_type": "execute_result"
    }
   ],
   "source": [
    "df"
   ]
  },
  {
   "cell_type": "markdown",
   "id": "396a231d-2db2-4b41-81d3-f6c815755007",
   "metadata": {},
   "source": [
    "### Ordenação"
   ]
  },
  {
   "cell_type": "markdown",
   "id": "d7cde1f6-2029-43b3-b889-c784935e4477",
   "metadata": {},
   "source": [
    "![](ordenacao.png)"
   ]
  },
  {
   "cell_type": "code",
   "execution_count": null,
   "id": "7329d149-d83d-4f02-9ada-df4aa905d8b8",
   "metadata": {},
   "outputs": [],
   "source": [
    "df.sort_values(by = \"matricula\", ascending = True)"
   ]
  },
  {
   "cell_type": "code",
   "execution_count": null,
   "id": "17acaa4c-b1b7-4f68-991b-377274887d82",
   "metadata": {},
   "outputs": [],
   "source": [
    "df.sort_values(by = [\"curso\", \"prova1\"], ascending = [True, True])"
   ]
  },
  {
   "cell_type": "markdown",
   "id": "23119f0b-ceb0-4cf0-9e93-bf7a6784eae2",
   "metadata": {},
   "source": [
    "## Seleção"
   ]
  },
  {
   "cell_type": "markdown",
   "id": "0b760bfe-775c-453e-8f7b-dc2506bc6b2d",
   "metadata": {},
   "source": [
    "#### Seleção por nomes das colunas"
   ]
  },
  {
   "cell_type": "code",
   "execution_count": null,
   "id": "9aa9f11c-aa23-4a8a-b495-06e4d42dcce0",
   "metadata": {},
   "outputs": [],
   "source": [
    "df[\"nome\"]"
   ]
  },
  {
   "cell_type": "code",
   "execution_count": null,
   "id": "a1a2af9f-371f-4c38-9dd0-2e33edaaebcb",
   "metadata": {},
   "outputs": [],
   "source": [
    "df[[\"nome\", \"prova1\", \"prova2\", \"prova3\"]]"
   ]
  },
  {
   "cell_type": "markdown",
   "id": "f0491a86-043b-4d1c-b073-c7da524704e6",
   "metadata": {},
   "source": [
    "#### Seleção por posição das colunas: .iloc"
   ]
  },
  {
   "cell_type": "code",
   "execution_count": null,
   "id": "93e3ac32-03e2-46d0-acd3-2a65a1eec345",
   "metadata": {},
   "outputs": [],
   "source": [
    "df.iloc[:, :3]"
   ]
  },
  {
   "cell_type": "code",
   "execution_count": null,
   "id": "6b522b04-2f73-42e0-909a-c25e684cc938",
   "metadata": {},
   "outputs": [],
   "source": [
    "df.iloc[:, -3:]"
   ]
  },
  {
   "cell_type": "code",
   "execution_count": null,
   "id": "a9bfdba7-7231-454e-8e17-384efbaf7243",
   "metadata": {},
   "outputs": [],
   "source": [
    "df.iloc[:, [1, 4]]"
   ]
  },
  {
   "cell_type": "markdown",
   "id": "369a362e-50bb-4955-9313-858d90b18945",
   "metadata": {},
   "source": [
    "#### Seleção por índices das linhas\n",
    "\n",
    "Para a seleção vou fazer uma modificação para nosso exercício, vamos mudar os índices do nosso dataframe.\n"
   ]
  },
  {
   "cell_type": "code",
   "execution_count": 2,
   "id": "6c11b77b-a202-4c9d-9a3c-d0b78d0e6674",
   "metadata": {},
   "outputs": [
    {
     "ename": "NameError",
     "evalue": "name 'df' is not defined",
     "output_type": "error",
     "traceback": [
      "\u001b[0;31m---------------------------------------------------------------------------\u001b[0m",
      "\u001b[0;31mNameError\u001b[0m                                 Traceback (most recent call last)",
      "\u001b[0;32m/tmp/ipykernel_12614/1972110509.py\u001b[0m in \u001b[0;36m<module>\u001b[0;34m\u001b[0m\n\u001b[0;32m----> 1\u001b[0;31m \u001b[0mdf1\u001b[0m \u001b[0;34m=\u001b[0m \u001b[0mdf\u001b[0m\u001b[0;34m.\u001b[0m\u001b[0mset_index\u001b[0m\u001b[0;34m(\u001b[0m\u001b[0;34m'matricula'\u001b[0m\u001b[0;34m)\u001b[0m\u001b[0;34m\u001b[0m\u001b[0;34m\u001b[0m\u001b[0m\n\u001b[0m\u001b[1;32m      2\u001b[0m \u001b[0mdf1\u001b[0m\u001b[0;34m\u001b[0m\u001b[0;34m\u001b[0m\u001b[0m\n",
      "\u001b[0;31mNameError\u001b[0m: name 'df' is not defined"
     ]
    }
   ],
   "source": [
    "df1 = df.set_index('matricula')\n",
    "df1"
   ]
  },
  {
   "cell_type": "code",
   "execution_count": null,
   "id": "ddd93e3b-356e-4209-aa61-03880993fe1b",
   "metadata": {},
   "outputs": [],
   "source": [
    "df1.loc[256]"
   ]
  },
  {
   "cell_type": "code",
   "execution_count": null,
   "id": "c6494eb3-262b-4a6b-aa71-66316fdccb85",
   "metadata": {},
   "outputs": [],
   "source": [
    "df1.loc[[256,125,458]]"
   ]
  },
  {
   "cell_type": "code",
   "execution_count": null,
   "id": "5f71e1c9-24be-4627-bfc5-27c01fce0760",
   "metadata": {},
   "outputs": [],
   "source": [
    "df1[2]"
   ]
  },
  {
   "cell_type": "code",
   "execution_count": 1,
   "id": "16dd0256-3dfb-462d-810e-c07c8d90bc5a",
   "metadata": {},
   "outputs": [
    {
     "ename": "NameError",
     "evalue": "name 'df1' is not defined",
     "output_type": "error",
     "traceback": [
      "\u001b[0;31m---------------------------------------------------------------------------\u001b[0m",
      "\u001b[0;31mNameError\u001b[0m                                 Traceback (most recent call last)",
      "\u001b[0;32m/tmp/ipykernel_12614/3457582984.py\u001b[0m in \u001b[0;36m<module>\u001b[0;34m\u001b[0m\n\u001b[0;32m----> 1\u001b[0;31m \u001b[0mdf1\u001b[0m\u001b[0;34m[\u001b[0m\u001b[0;34m:\u001b[0m\u001b[0;36m2\u001b[0m\u001b[0;34m]\u001b[0m\u001b[0;34m\u001b[0m\u001b[0;34m\u001b[0m\u001b[0m\n\u001b[0m",
      "\u001b[0;31mNameError\u001b[0m: name 'df1' is not defined"
     ]
    }
   ],
   "source": [
    "df1[:2]"
   ]
  },
  {
   "cell_type": "code",
   "execution_count": null,
   "id": "46844306-e924-4039-9331-32a472538198",
   "metadata": {},
   "outputs": [],
   "source": [
    "df1.iloc[2]"
   ]
  },
  {
   "cell_type": "markdown",
   "id": "e954a022-b358-4445-aac5-6dd09a0630b6",
   "metadata": {},
   "source": [
    "## Filtragem\n",
    "\n",
    "![](filtro.png)"
   ]
  },
  {
   "cell_type": "code",
   "execution_count": null,
   "id": "fb7670d9-5291-4dea-9981-7bc8619645f5",
   "metadata": {},
   "outputs": [],
   "source": [
    "df1[df1.curso == \"Est\"]"
   ]
  },
  {
   "cell_type": "code",
   "execution_count": null,
   "id": "f0a3aba3-fba9-43e6-9272-37d740bdde0a",
   "metadata": {},
   "outputs": [],
   "source": [
    "df1[df1.faltas == 0]"
   ]
  },
  {
   "cell_type": "code",
   "execution_count": null,
   "id": "c8b37406-4e52-42b3-8c36-121bfd379eb8",
   "metadata": {},
   "outputs": [],
   "source": [
    "df1[df1.faltas != 0]"
   ]
  },
  {
   "cell_type": "code",
   "execution_count": null,
   "id": "8aab8bcf-5031-4cfa-98b9-fce2f7a06279",
   "metadata": {},
   "outputs": [],
   "source": [
    "df1[(df1.prova1 >= 70) & (df1.prova2 >= 70)]"
   ]
  },
  {
   "cell_type": "code",
   "execution_count": null,
   "id": "164c4769-8052-41a0-806c-64be3e0d1ef4",
   "metadata": {},
   "outputs": [],
   "source": [
    "df1[(df1.prova1 + df1.prova2 + df1.prova3)/3 >= 70]"
   ]
  },
  {
   "cell_type": "markdown",
   "id": "e609111f-ca7e-4152-849b-010fd5701f1d",
   "metadata": {},
   "source": [
    "## Renomeação"
   ]
  },
  {
   "cell_type": "markdown",
   "id": "6761b20a-2b5b-4597-8bba-8277146ca619",
   "metadata": {},
   "source": [
    "#### Renomeia índices de coluna"
   ]
  },
  {
   "cell_type": "code",
   "execution_count": null,
   "id": "38d8217c-963f-4948-8b39-9198c704c2f1",
   "metadata": {},
   "outputs": [],
   "source": [
    "df.rename(columns = {\"matricula\": \"mat.\", \"faltas\": \"fl\"})"
   ]
  },
  {
   "cell_type": "code",
   "execution_count": null,
   "id": "e8fbf3dd-17e3-4c0a-8597-224cd3e6dcf0",
   "metadata": {},
   "outputs": [],
   "source": [
    "df.rename(index = {0: \"10\", 1: \"20\"})"
   ]
  },
  {
   "cell_type": "code",
   "execution_count": null,
   "id": "fc6efe77-55bf-4b29-ad5c-3b7e1462ea41",
   "metadata": {},
   "outputs": [],
   "source": [
    "df"
   ]
  },
  {
   "cell_type": "markdown",
   "id": "1c500be4-a1d3-43c5-93b2-47b9d9fd2221",
   "metadata": {},
   "source": [
    "IMPORTANTE: PANDAS TRABALHA COM CÓPIA!"
   ]
  },
  {
   "cell_type": "markdown",
   "id": "0120e35a-4d37-4f30-8876-efd0fabd229b",
   "metadata": {
    "tags": []
   },
   "source": [
    "## Transformação\n",
    "\n",
    "As operações podem modificar a tabela com a:\n",
    "\n",
    "1. Criação de novas variáveis\n",
    "2. Remoção de variáveis\n",
    "3. Transformação de variáveis\n",
    "\n",
    "As operações de criação/transformação podem ser:\n",
    "\n",
    "1. Matemáticas: aritméticas, potência, logarítmicas, trigonométricas, etc.\n",
    "2. Compartimentação (binning): agrupar em classes.\n",
    "3. Conversão de tipo de valor: i.e. de int → str.\n",
    "4. Substituição: i.e. preencher um valor ausente."
   ]
  },
  {
   "cell_type": "markdown",
   "id": "34b936c9-722b-47f1-a56e-f40c2bd06511",
   "metadata": {},
   "source": [
    "#### Criação/Remoção\n",
    "\n",
    "![](transformacao1.png)"
   ]
  },
  {
   "cell_type": "code",
   "execution_count": null,
   "id": "8ff41b10-023a-4587-9a68-3c767a8c4796",
   "metadata": {},
   "outputs": [],
   "source": [
    "df1[\"media\"] = (df1.prova1 + df1.prova2 + df1.prova3)/3"
   ]
  },
  {
   "cell_type": "code",
   "execution_count": null,
   "id": "de61b53d-3721-4fce-bd74-90432d140604",
   "metadata": {},
   "outputs": [],
   "source": [
    "df1"
   ]
  },
  {
   "cell_type": "markdown",
   "id": "a33b24bc-2385-47fd-b53c-8d52744ebc3f",
   "metadata": {},
   "source": [
    "Para deletar, maneira mais simples é"
   ]
  },
  {
   "cell_type": "code",
   "execution_count": null,
   "id": "ad088596-0a66-4629-92d2-9988018051f9",
   "metadata": {},
   "outputs": [],
   "source": [
    "del df1[\"media\"]"
   ]
  },
  {
   "cell_type": "code",
   "execution_count": null,
   "id": "a8fe1f15-8b0a-4948-ba62-8bfa99b7c9f1",
   "metadata": {},
   "outputs": [],
   "source": [
    "df1"
   ]
  },
  {
   "cell_type": "markdown",
   "id": "bc228398-3129-4de9-95a8-619a535ed772",
   "metadata": {},
   "source": [
    "Podemos também colocar uma nova variável que se adapte a esses valores para criar um novo valor. Podemos, por exemplo, fazer a classificação automática de aprovados/reprovados, __compartimentalizando__ os intervalos de notas.\n",
    "\n"
   ]
  },
  {
   "cell_type": "code",
   "execution_count": null,
   "id": "571f364d-bfb3-4f43-996d-7f3c1faf51a2",
   "metadata": {},
   "outputs": [],
   "source": [
    "df1[\"media\"] = (df1.prova1 + df1.prova2 + df1.prova3)/3\n",
    "df1"
   ]
  },
  {
   "cell_type": "markdown",
   "id": "05036f48-f8d7-48bc-a7c3-742c7f39ae1f",
   "metadata": {},
   "source": [
    "Para isso, vamos criar intervalos contendo as notas: [0,40] temos reprovado, [40,70] temos o aluno que vai a final, [70,100], temos aprovado. "
   ]
  },
  {
   "cell_type": "code",
   "execution_count": null,
   "id": "6a0c6aba-85da-4b3e-b697-30ea093b9d65",
   "metadata": {},
   "outputs": [],
   "source": [
    "inter = [0, 40, 70, 100]\n",
    "condi = [\"reprovado\", \"final\", \"aprovado\"]"
   ]
  },
  {
   "cell_type": "markdown",
   "id": "496ba25e-aea5-41b8-adf5-b1b8af508dc0",
   "metadata": {},
   "source": [
    "Basta agora criar uma nova variável, que chamaremos de condição, com essa classificação."
   ]
  },
  {
   "cell_type": "code",
   "execution_count": null,
   "id": "46d6c6df-f835-42d8-be3c-13c46b4fa0f0",
   "metadata": {},
   "outputs": [],
   "source": [
    "df1[\"condicao\"] = pd.cut(x = df1[\"media\"],\n",
    "                        bins = inter,\n",
    "                        labels = condi,\n",
    "                        right = False,\n",
    "                        include_lowest = True)"
   ]
  },
  {
   "cell_type": "code",
   "execution_count": null,
   "id": "3d96e166-81f9-4b90-808d-d0f0aa7c0693",
   "metadata": {},
   "outputs": [],
   "source": [
    "df1"
   ]
  },
  {
   "cell_type": "markdown",
   "id": "3844f3d6-3cda-486b-962a-5972c4694091",
   "metadata": {},
   "source": [
    "Como corrigir esse nan? Podemos, __para esse caso específico__, trocar o NaN por 0, indicando que a prova não realizada recebe essa nota zero..."
   ]
  },
  {
   "cell_type": "code",
   "execution_count": null,
   "id": "ad2befe9-e81c-4443-9117-2c34730bf621",
   "metadata": {},
   "outputs": [],
   "source": [
    "df1.fillna({\"prova1\": 0, \"prova2\": 0, \"prova3\": 0}, inplace = True)"
   ]
  },
  {
   "cell_type": "code",
   "execution_count": null,
   "id": "06fbd54f-1421-43cf-8fa2-412e78ce289a",
   "metadata": {},
   "outputs": [],
   "source": [
    "df1"
   ]
  },
  {
   "cell_type": "code",
   "execution_count": null,
   "id": "3403865f-f587-4a16-82c3-b85304b975a1",
   "metadata": {},
   "outputs": [],
   "source": [
    "df1[\"media\"] = (df1.prova1 + df1.prova2 + df1.prova3)/3\n",
    "df1[\"condicao\"] = pd.cut(x = df1[\"media\"],\n",
    "                        bins = inter,\n",
    "                        labels = condi,\n",
    "                        right = False,\n",
    "                        include_lowest = True)"
   ]
  },
  {
   "cell_type": "code",
   "execution_count": null,
   "id": "d46cccde-6b2e-4210-9791-72d98949ccd1",
   "metadata": {},
   "outputs": [],
   "source": [
    "df1"
   ]
  }
 ],
 "metadata": {
  "kernelspec": {
   "display_name": "Python 3 (ipykernel)",
   "language": "python",
   "name": "python3"
  },
  "language_info": {
   "codemirror_mode": {
    "name": "ipython",
    "version": 3
   },
   "file_extension": ".py",
   "mimetype": "text/x-python",
   "name": "python",
   "nbconvert_exporter": "python",
   "pygments_lexer": "ipython3",
   "version": "3.9.7"
  }
 },
 "nbformat": 4,
 "nbformat_minor": 5
}
