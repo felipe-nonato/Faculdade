{
 "cells": [
  {
   "cell_type": "markdown",
   "metadata": {},
   "source": [
    "<div class=\"alert alert-block alert-info\">\n",
    "<center>ESTATÍSTICA APLICADA</center>\n",
    "<center>LISTA 01</center>\n",
    "<center>ALUNO: Luís Felipe Ferreira Tavares Nonato</center>\n",
    "</div>"
   ]
  },
  {
   "cell_type": "markdown",
   "metadata": {},
   "source": [
    "<div class=\"alert alert-block alert-info\">\n",
    "Questão 1\n",
    "</div>"
   ]
  },
  {
   "cell_type": "markdown",
   "metadata": {},
   "source": [
    "## Listas \n",
    "    Usadas normalmente para armazenamento de poucos dados.\n",
    "    Ex: nomes de alunos de uma sala.\n",
    "    \n",
    "    Principais caracteristicas: \n",
    "\n",
    "        - mutáveis\n",
    "        - ordenadas\n",
    "        - heterogêneas\n",
    "        - indexada por posição\n",
    "        - delimitada por colchetes [ ]\n",
    "        \n",
    "\n",
    "## Dicionários \n",
    "    Usados para dados que precisam de maior organização, onde a indexação pode atrapalhar.\n",
    "    Ex: Lista telefonica.\n",
    "\n",
    "    Principais caracteristicas: \n",
    "    \n",
    "        - mutáveis\n",
    "        - não ordenados\n",
    "        - heterogêneos\n",
    "        - indexada por chaves\n",
    "        - delimitada por chaves { }\n",
    "        \n",
    "##  ndarray - Numpy\n",
    "\n",
    "    Usada como uma lista, mas com facilitação na forma de criar e na possibilidade usar para\n",
    "    operações com os elementos da lista.\n",
    "    Ex: Listas de salarios e valor recebido por horas extras que precisam ser somadas.\n",
    "    \n",
    "    Principais caracteristicas:\n",
    "        \n",
    "        - mutáveis\n",
    "        - ordenadas\n",
    "        - \"heterogêneas\" → (upcasting)\n",
    "        - indexada por posição\n",
    "        - delimitada por funções da lib numpy\n"
   ]
  },
  {
   "cell_type": "markdown",
   "metadata": {},
   "source": [
    "<div class=\"alert alert-block alert-info\">\n",
    "Questão 2\n",
    "</div>"
   ]
  },
  {
   "cell_type": "markdown",
   "metadata": {},
   "source": [
    "Há mais de uma forma importar a biblioteca numpy.\n",
    "\n",
    "   ## import numpy\n",
    "        \n",
    "   - Importa toda a biblioteca numpy. Forma de chamar uma função:\n",
    "       \n",
    "       ` numpy.func(parm) `\n",
    "   \n",
    "   ## from numpy import function\n",
    "   \n",
    "   - Importa apenas uma função da biblioteca numpy. Forma de chamar a função:\n",
    "       \n",
    "       ` func(parm) `\n",
    "       \n",
    "   ## from numpy import *\n",
    "   \n",
    "   - Importa todas as funções da biblioteca numpy, porem pode causar conflito com</br>outras bibliotecas que tenham funções com o mesmo nome. Forma de chamar uma função:\n",
    "       \n",
    "       ` func(parm) `\n",
    "       \n",
    "   ## import numpy as np\n",
    "   \n",
    "   - Importa toda a biblioteca numpy e apelida a lib de np. Forma de chamar uma função:\n",
    "       \n",
    "       ` np.func(parm) `\n",
    "       \n",
    "       ---\n",
    "Para saber a versão da biblioteca numpy basta executar o comando abaixo:"
   ]
  },
  {
   "cell_type": "code",
   "execution_count": 1,
   "metadata": {
    "scrolled": true
   },
   "outputs": [
    {
     "name": "stdout",
     "output_type": "stream",
     "text": [
      "Name: numpy\n",
      "Version: 1.22.3\n",
      "Summary: NumPy is the fundamental package for array computing with Python.\n",
      "Home-page: https://www.numpy.org\n",
      "Author: Travis E. Oliphant et al.\n",
      "Author-email: None\n",
      "License: BSD\n",
      "Location: /usr/local/lib/python3.8/dist-packages\n",
      "Requires: \n",
      "Required-by: wxPython\n",
      "Note: you may need to restart the kernel to use updated packages.\n"
     ]
    }
   ],
   "source": [
    "pip show numpy"
   ]
  },
  {
   "cell_type": "markdown",
   "metadata": {},
   "source": [
    "<div class=\"alert alert-block alert-info\">\n",
    "Questão 3\n",
    "</div>"
   ]
  },
  {
   "cell_type": "markdown",
   "metadata": {},
   "source": [
    "- Vetorização\n",
    "\n",
    "    Diferente de um `for` explicito, a biblioteca numpy <br>\n",
    "    consegue fazer mais de uma operação ao mesmo tempo, <br>\n",
    "    aproveitando mais da capacidade do processador, e <br>\n",
    "    otimizando o codigo, gerando resultados mais rapidos.\n",
    "\n",
    "<br>\n",
    "\n",
    "- Broadcasting\n",
    "\n",
    "    A biblioteca numpy consegue se utilizar de um aritificio,<br>\n",
    "    para realizar operações entre arrays de tamanhos diferentes,<br>\n",
    "    por exemplo, uma multiplicação entre um array (3x3) e outro<br>\n",
    "    array (1x3), resultara em um array (3x3).\n",
    "\n",
    "<br>\n",
    "\n",
    "- Fontes\n",
    "\n",
    "     - [Vetorização](https://medium.com/@leonardopiechacaldeira/guia-explicativo-para-as-bibliotecas-pandas-e-numpy-b061475d874c)\n",
    "     - [Broadcasting](http://www.opl.ufc.br/pt/post/numpy/#broadcasting)"
   ]
  },
  {
   "cell_type": "markdown",
   "metadata": {},
   "source": [
    "<div class=\"alert alert-block alert-info\">\n",
    "Questão 4\n",
    "</div>"
   ]
  },
  {
   "cell_type": "code",
   "execution_count": 2,
   "metadata": {
    "scrolled": false
   },
   "outputs": [],
   "source": [
    "import numpy as np"
   ]
  },
  {
   "cell_type": "code",
   "execution_count": 3,
   "metadata": {
    "scrolled": true
   },
   "outputs": [
    {
     "data": {
      "text/plain": [
       "array([ 1.        ,  3.11111111,  5.22222222,  7.33333333,  9.44444444,\n",
       "       11.55555556, 13.66666667, 15.77777778, 17.88888889, 20.        ])"
      ]
     },
     "execution_count": 3,
     "metadata": {},
     "output_type": "execute_result"
    }
   ],
   "source": [
    "np.linspace(1,20,10)"
   ]
  },
  {
   "cell_type": "code",
   "execution_count": 4,
   "metadata": {
    "scrolled": true
   },
   "outputs": [
    {
     "data": {
      "text/plain": [
       "array([ 1,  3,  5,  7,  9, 11, 13, 15, 17, 19])"
      ]
     },
     "execution_count": 4,
     "metadata": {},
     "output_type": "execute_result"
    }
   ],
   "source": [
    "np.arange(1,20,2)"
   ]
  },
  {
   "cell_type": "code",
   "execution_count": 5,
   "metadata": {
    "scrolled": false
   },
   "outputs": [
    {
     "data": {
      "text/plain": [
       "array([[1, 0, 0],\n",
       "       [0, 2, 0],\n",
       "       [0, 0, 3]])"
      ]
     },
     "execution_count": 5,
     "metadata": {},
     "output_type": "execute_result"
    }
   ],
   "source": [
    "np.diag(np.array([1,2,3]))"
   ]
  },
  {
   "cell_type": "markdown",
   "metadata": {},
   "source": [
    "<div class=\"alert alert-block alert-info\">\n",
    "Questão 5\n",
    "</div>"
   ]
  },
  {
   "cell_type": "code",
   "execution_count": 1,
   "metadata": {
    "scrolled": false
   },
   "outputs": [],
   "source": [
    "lista = [\n",
    "['F','H',5], #1\n",
    "['M','M',8], #2\n",
    "['F','P',8], #3\n",
    "['F','H',6], #4\n",
    "['M','C',5], #5\n",
    "['M','H',6], #6\n",
    "['F','M',8], #7\n",
    "['F','P',4], #8\n",
    "['F','H',2], #9\n",
    "['M','C',6], #10\n",
    "['F','P',8], #11\n",
    "['M','M',2], #12\n",
    "['M','G',4], #13\n",
    "['M','G',9], #14\n",
    "['M','M',7], #15\n",
    "['M','M',1], #16\n",
    "['F','P',8], #17\n",
    "['F','G',5], #18\n",
    "['M','G',9], #19\n",
    "['M','P',5], #20\n",
    "['F','M',8], #21\n",
    "['F','G',6], #22\n",
    "['M','H',3], #23\n",
    "['M','M',5], #24\n",
    "['F','P',5], #25\n",
    "['F','G',5], #26\n",
    "['M','C',7], #27\n",
    "['M','H',4], #28\n",
    "['F','M',7], #29\n",
    "['F','P',7], #30\n",
    "['F','M',6], #31\n",
    "['M','G',6], #32\n",
    "['M','H',9], #33\n",
    "['F','M',8], #34\n",
    "['M','P',5], #35\n",
    "['M','G',6], #36\n",
    "['F','M',7], #37\n",
    "['M','P',5], #38\n",
    "['F','M',5], #39\n",
    "['F','M',5], #40\n",
    "['F','P',9], #41\n",
    "['M','M',8]  #42\n",
    "]"
   ]
  },
  {
   "cell_type": "markdown",
   "metadata": {},
   "source": [
    "### Dificuldades:\n",
    "\n",
    "   * Dificil modificação\n",
    "   * Acesso apenas por indices, tornando confuso entendimento\n",
    "   * Impossivel fazer operações com elementos da lista"
   ]
  },
  {
   "cell_type": "code",
   "execution_count": 2,
   "metadata": {},
   "outputs": [],
   "source": [
    "dic = {\n",
    "'sex':[\n",
    "'F','M','F','F','M','M','F',\n",
    "'F','F','M','F','M','M','M',\n",
    "'M','M','F','F','M','M','F',\n",
    "'F','M','M','F','F','M','M',\n",
    "'F','F','F','M','M','F','M',\n",
    "'M','F','M','F','F','F','M'\n",
    "],\n",
    "'mat':[\n",
    "'H','M','P','H','C','H',\n",
    "'M','P','H','C','P','M',\n",
    "'G','G','M','M','P','G',\n",
    "'G','P','M','G','H','M',\n",
    "'P','G','C','H','M','P',\n",
    "'M','G','H','M','P','G',\n",
    "'M','P','M','M','P','M'\n",
    "],\n",
    "'nota':[\n",
    "5,8,8,6,5,6,8,\n",
    "4,2,6,8,2,4,9,\n",
    "7,1,8,5,9,5,8,\n",
    "6,3,5,5,5,7,4,\n",
    "7,7,6,6,9,8,5,\n",
    "6,7,5,5,5,9,8\n",
    "]}"
   ]
  },
  {
   "cell_type": "markdown",
   "metadata": {},
   "source": [
    "### Dificuldades:\n",
    "\n",
    "   * Acesso apenas por elementos, não podendo ver dados de um aluno por completo\n",
    "   * Impossivel fazer operações com elementos da lista"
   ]
  },
  {
   "cell_type": "code",
   "execution_count": 3,
   "metadata": {},
   "outputs": [],
   "source": [
    "import numpy as np\n",
    "\n",
    "npList = np.array([\n",
    "['F','H',5], #1\n",
    "['M','M',8], #2\n",
    "['F','P',8], #3\n",
    "['F','H',6], #4\n",
    "['M','C',5], #5\n",
    "['M','H',6], #6\n",
    "['F','M',8], #7\n",
    "['F','P',4], #8\n",
    "['F','H',2], #9\n",
    "['M','C',6], #10\n",
    "['F','P',8], #11\n",
    "['M','M',2], #12\n",
    "['M','G',4], #13\n",
    "['M','G',9], #14\n",
    "['M','M',7], #15\n",
    "['M','M',1], #16\n",
    "['F','P',8], #17\n",
    "['F','G',5], #18\n",
    "['M','G',9], #19\n",
    "['M','P',5], #20\n",
    "['F','M',8], #21\n",
    "['F','G',6], #22\n",
    "['M','H',3], #23\n",
    "['M','M',5], #24\n",
    "['F','P',5], #25\n",
    "['F','G',5], #26\n",
    "['M','C',7], #27\n",
    "['M','H',4], #28\n",
    "['F','M',7], #29\n",
    "['F','P',7], #30\n",
    "['F','M',6], #31\n",
    "['M','G',6], #32\n",
    "['M','H',9], #33\n",
    "['F','M',8], #34\n",
    "['M','P',5], #35\n",
    "['M','G',6], #36\n",
    "['F','M',7], #37\n",
    "['M','P',5], #38\n",
    "['F','M',5], #39\n",
    "['F','M',5], #40\n",
    "['F','P',9], #41\n",
    "['M','M',8]  #42\n",
    "])"
   ]
  },
  {
   "cell_type": "markdown",
   "metadata": {},
   "source": [
    "### Dificuldades:\n",
    "\n",
    "   * Acesso por indices, tornando confuso entendimento"
   ]
  }
 ],
 "metadata": {
  "kernelspec": {
   "display_name": "Python 3 (ipykernel)",
   "language": "python",
   "name": "python3"
  },
  "language_info": {
   "codemirror_mode": {
    "name": "ipython",
    "version": 3
   },
   "file_extension": ".py",
   "mimetype": "text/x-python",
   "name": "python",
   "nbconvert_exporter": "python",
   "pygments_lexer": "ipython3",
   "version": "3.9.7"
  }
 },
 "nbformat": 4,
 "nbformat_minor": 4
}
