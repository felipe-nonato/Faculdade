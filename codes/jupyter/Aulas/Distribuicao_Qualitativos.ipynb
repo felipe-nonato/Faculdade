{
 "cells": [
  {
   "cell_type": "markdown",
   "id": "86cdcf11",
   "metadata": {},
   "source": [
    "<div class=\"alert alert-block alert-info\">\n",
    "    \n",
    "<h1 style=\"color:Blue;\"> <center> <ins> <b> \n",
    "ESTATÍSTICA APLICADA \n",
    "</b> </ins> </center> </h1>\n",
    "    \n",
    "<h3 style=\"color:Blue;\"> <center> <b> \n",
    "Distribuições de Frequências de Dados Qualitativos\n",
    "</b></center> </h3>\n",
    "    \n",
    "</div>"
   ]
  },
  {
   "cell_type": "code",
   "execution_count": 1,
   "id": "ec8b7fd8",
   "metadata": {},
   "outputs": [],
   "source": [
    "import pandas as pd\n",
    "import numpy as np"
   ]
  },
  {
   "cell_type": "markdown",
   "id": "82029ed0",
   "metadata": {},
   "source": [
    "<div class=\"alert alert-block alert-info\" style=\"color:Blue;\">\n",
    "Tipos de variáveis estatísticas\n",
    "</div>"
   ]
  },
  {
   "cell_type": "markdown",
   "id": "5acdddc6",
   "metadata": {},
   "source": [
    "![](https://blog.fastformat.co/wp-content/uploads/2018/05/variaveisquantitativas_qualitativas-768x398.png)"
   ]
  },
  {
   "cell_type": "code",
   "execution_count": 2,
   "id": "0b10a03d",
   "metadata": {},
   "outputs": [
    {
     "data": {
      "text/html": [
       "<div>\n",
       "<style scoped>\n",
       "    .dataframe tbody tr th:only-of-type {\n",
       "        vertical-align: middle;\n",
       "    }\n",
       "\n",
       "    .dataframe tbody tr th {\n",
       "        vertical-align: top;\n",
       "    }\n",
       "\n",
       "    .dataframe thead th {\n",
       "        text-align: right;\n",
       "    }\n",
       "</style>\n",
       "<table border=\"1\" class=\"dataframe\">\n",
       "  <thead>\n",
       "    <tr style=\"text-align: right;\">\n",
       "      <th></th>\n",
       "      <th>Estado Civil</th>\n",
       "      <th>Grau de Instrução</th>\n",
       "      <th>N de Filhos</th>\n",
       "      <th>Salario (x Sal Min)</th>\n",
       "      <th>Anos</th>\n",
       "      <th>Região de Procedência</th>\n",
       "    </tr>\n",
       "  </thead>\n",
       "  <tbody>\n",
       "    <tr>\n",
       "      <th>0</th>\n",
       "      <td>solteiro</td>\n",
       "      <td>ensino fundamental</td>\n",
       "      <td>NaN</td>\n",
       "      <td>4.00</td>\n",
       "      <td>26</td>\n",
       "      <td>interior</td>\n",
       "    </tr>\n",
       "    <tr>\n",
       "      <th>1</th>\n",
       "      <td>casado</td>\n",
       "      <td>ensino fundamental</td>\n",
       "      <td>1.0</td>\n",
       "      <td>4.56</td>\n",
       "      <td>32</td>\n",
       "      <td>capital</td>\n",
       "    </tr>\n",
       "    <tr>\n",
       "      <th>2</th>\n",
       "      <td>casado</td>\n",
       "      <td>ensino fundamental</td>\n",
       "      <td>2.0</td>\n",
       "      <td>5.25</td>\n",
       "      <td>36</td>\n",
       "      <td>capital</td>\n",
       "    </tr>\n",
       "    <tr>\n",
       "      <th>3</th>\n",
       "      <td>solteiro</td>\n",
       "      <td>ensino médio</td>\n",
       "      <td>NaN</td>\n",
       "      <td>5.73</td>\n",
       "      <td>20</td>\n",
       "      <td>outra</td>\n",
       "    </tr>\n",
       "    <tr>\n",
       "      <th>4</th>\n",
       "      <td>solteiro</td>\n",
       "      <td>ensino fundamental</td>\n",
       "      <td>NaN</td>\n",
       "      <td>6.26</td>\n",
       "      <td>40</td>\n",
       "      <td>outra</td>\n",
       "    </tr>\n",
       "    <tr>\n",
       "      <th>5</th>\n",
       "      <td>casado</td>\n",
       "      <td>ensino fundamental</td>\n",
       "      <td>0.0</td>\n",
       "      <td>6.66</td>\n",
       "      <td>28</td>\n",
       "      <td>interior</td>\n",
       "    </tr>\n",
       "    <tr>\n",
       "      <th>6</th>\n",
       "      <td>solteiro</td>\n",
       "      <td>ensino fundamental</td>\n",
       "      <td>NaN</td>\n",
       "      <td>6.86</td>\n",
       "      <td>41</td>\n",
       "      <td>interior</td>\n",
       "    </tr>\n",
       "    <tr>\n",
       "      <th>7</th>\n",
       "      <td>solteiro</td>\n",
       "      <td>ensino fundamental</td>\n",
       "      <td>NaN</td>\n",
       "      <td>7.39</td>\n",
       "      <td>43</td>\n",
       "      <td>capital</td>\n",
       "    </tr>\n",
       "    <tr>\n",
       "      <th>8</th>\n",
       "      <td>casado</td>\n",
       "      <td>ensino médio</td>\n",
       "      <td>1.0</td>\n",
       "      <td>7.59</td>\n",
       "      <td>34</td>\n",
       "      <td>capital</td>\n",
       "    </tr>\n",
       "    <tr>\n",
       "      <th>9</th>\n",
       "      <td>solteiro</td>\n",
       "      <td>ensino médio</td>\n",
       "      <td>NaN</td>\n",
       "      <td>7.44</td>\n",
       "      <td>23</td>\n",
       "      <td>outra</td>\n",
       "    </tr>\n",
       "    <tr>\n",
       "      <th>10</th>\n",
       "      <td>casado</td>\n",
       "      <td>ensino médio</td>\n",
       "      <td>2.0</td>\n",
       "      <td>8.12</td>\n",
       "      <td>33</td>\n",
       "      <td>interior</td>\n",
       "    </tr>\n",
       "    <tr>\n",
       "      <th>11</th>\n",
       "      <td>solteiro</td>\n",
       "      <td>ensino fundamental</td>\n",
       "      <td>NaN</td>\n",
       "      <td>8.46</td>\n",
       "      <td>27</td>\n",
       "      <td>capital</td>\n",
       "    </tr>\n",
       "    <tr>\n",
       "      <th>12</th>\n",
       "      <td>solteiro</td>\n",
       "      <td>ensino médio</td>\n",
       "      <td>NaN</td>\n",
       "      <td>8.74</td>\n",
       "      <td>37</td>\n",
       "      <td>outra</td>\n",
       "    </tr>\n",
       "    <tr>\n",
       "      <th>13</th>\n",
       "      <td>casado</td>\n",
       "      <td>ensino fundamental</td>\n",
       "      <td>3.0</td>\n",
       "      <td>8.95</td>\n",
       "      <td>44</td>\n",
       "      <td>outra</td>\n",
       "    </tr>\n",
       "    <tr>\n",
       "      <th>14</th>\n",
       "      <td>casado</td>\n",
       "      <td>ensino médio</td>\n",
       "      <td>0.0</td>\n",
       "      <td>9.13</td>\n",
       "      <td>30</td>\n",
       "      <td>interior</td>\n",
       "    </tr>\n",
       "    <tr>\n",
       "      <th>15</th>\n",
       "      <td>solteiro</td>\n",
       "      <td>ensino médio</td>\n",
       "      <td>NaN</td>\n",
       "      <td>9.35</td>\n",
       "      <td>38</td>\n",
       "      <td>outra</td>\n",
       "    </tr>\n",
       "    <tr>\n",
       "      <th>16</th>\n",
       "      <td>casado</td>\n",
       "      <td>ensino médio</td>\n",
       "      <td>1.0</td>\n",
       "      <td>9.77</td>\n",
       "      <td>31</td>\n",
       "      <td>capital</td>\n",
       "    </tr>\n",
       "    <tr>\n",
       "      <th>17</th>\n",
       "      <td>casado</td>\n",
       "      <td>ensino fundamental</td>\n",
       "      <td>2.0</td>\n",
       "      <td>9.80</td>\n",
       "      <td>39</td>\n",
       "      <td>outra</td>\n",
       "    </tr>\n",
       "    <tr>\n",
       "      <th>18</th>\n",
       "      <td>solteiro</td>\n",
       "      <td>superior</td>\n",
       "      <td>NaN</td>\n",
       "      <td>10.53</td>\n",
       "      <td>25</td>\n",
       "      <td>interior</td>\n",
       "    </tr>\n",
       "    <tr>\n",
       "      <th>19</th>\n",
       "      <td>solteiro</td>\n",
       "      <td>ensino médio</td>\n",
       "      <td>NaN</td>\n",
       "      <td>10.76</td>\n",
       "      <td>37</td>\n",
       "      <td>interior</td>\n",
       "    </tr>\n",
       "    <tr>\n",
       "      <th>20</th>\n",
       "      <td>casado</td>\n",
       "      <td>ensino médio</td>\n",
       "      <td>1.0</td>\n",
       "      <td>11.06</td>\n",
       "      <td>30</td>\n",
       "      <td>outra</td>\n",
       "    </tr>\n",
       "    <tr>\n",
       "      <th>21</th>\n",
       "      <td>solteiro</td>\n",
       "      <td>ensino médio</td>\n",
       "      <td>NaN</td>\n",
       "      <td>11.59</td>\n",
       "      <td>34</td>\n",
       "      <td>capital</td>\n",
       "    </tr>\n",
       "    <tr>\n",
       "      <th>22</th>\n",
       "      <td>solteiro</td>\n",
       "      <td>ensino fundamental</td>\n",
       "      <td>NaN</td>\n",
       "      <td>12.00</td>\n",
       "      <td>41</td>\n",
       "      <td>outra</td>\n",
       "    </tr>\n",
       "    <tr>\n",
       "      <th>23</th>\n",
       "      <td>casado</td>\n",
       "      <td>superior</td>\n",
       "      <td>0.0</td>\n",
       "      <td>12.79</td>\n",
       "      <td>26</td>\n",
       "      <td>outra</td>\n",
       "    </tr>\n",
       "    <tr>\n",
       "      <th>24</th>\n",
       "      <td>casado</td>\n",
       "      <td>ensino médio</td>\n",
       "      <td>2.0</td>\n",
       "      <td>13.23</td>\n",
       "      <td>32</td>\n",
       "      <td>interior</td>\n",
       "    </tr>\n",
       "    <tr>\n",
       "      <th>25</th>\n",
       "      <td>casado</td>\n",
       "      <td>ensino médio</td>\n",
       "      <td>2.0</td>\n",
       "      <td>13.60</td>\n",
       "      <td>35</td>\n",
       "      <td>outra</td>\n",
       "    </tr>\n",
       "    <tr>\n",
       "      <th>26</th>\n",
       "      <td>solteiro</td>\n",
       "      <td>ensino fundamental</td>\n",
       "      <td>NaN</td>\n",
       "      <td>13.85</td>\n",
       "      <td>46</td>\n",
       "      <td>outra</td>\n",
       "    </tr>\n",
       "    <tr>\n",
       "      <th>27</th>\n",
       "      <td>casado</td>\n",
       "      <td>ensino médio</td>\n",
       "      <td>0.0</td>\n",
       "      <td>14.69</td>\n",
       "      <td>29</td>\n",
       "      <td>interior</td>\n",
       "    </tr>\n",
       "    <tr>\n",
       "      <th>28</th>\n",
       "      <td>casado</td>\n",
       "      <td>ensino médio</td>\n",
       "      <td>5.0</td>\n",
       "      <td>14.71</td>\n",
       "      <td>40</td>\n",
       "      <td>interior</td>\n",
       "    </tr>\n",
       "    <tr>\n",
       "      <th>29</th>\n",
       "      <td>casado</td>\n",
       "      <td>ensino médio</td>\n",
       "      <td>2.0</td>\n",
       "      <td>15.99</td>\n",
       "      <td>35</td>\n",
       "      <td>capital</td>\n",
       "    </tr>\n",
       "    <tr>\n",
       "      <th>30</th>\n",
       "      <td>solteiro</td>\n",
       "      <td>superior</td>\n",
       "      <td>NaN</td>\n",
       "      <td>16.22</td>\n",
       "      <td>31</td>\n",
       "      <td>outra</td>\n",
       "    </tr>\n",
       "    <tr>\n",
       "      <th>31</th>\n",
       "      <td>casado</td>\n",
       "      <td>ensino médio</td>\n",
       "      <td>1.0</td>\n",
       "      <td>16.61</td>\n",
       "      <td>36</td>\n",
       "      <td>interior</td>\n",
       "    </tr>\n",
       "    <tr>\n",
       "      <th>32</th>\n",
       "      <td>casado</td>\n",
       "      <td>superior</td>\n",
       "      <td>3.0</td>\n",
       "      <td>17.26</td>\n",
       "      <td>43</td>\n",
       "      <td>capital</td>\n",
       "    </tr>\n",
       "    <tr>\n",
       "      <th>33</th>\n",
       "      <td>solteiro</td>\n",
       "      <td>superior</td>\n",
       "      <td>NaN</td>\n",
       "      <td>18.75</td>\n",
       "      <td>33</td>\n",
       "      <td>capital</td>\n",
       "    </tr>\n",
       "    <tr>\n",
       "      <th>34</th>\n",
       "      <td>casado</td>\n",
       "      <td>ensino médio</td>\n",
       "      <td>2.0</td>\n",
       "      <td>19.40</td>\n",
       "      <td>48</td>\n",
       "      <td>capital</td>\n",
       "    </tr>\n",
       "    <tr>\n",
       "      <th>35</th>\n",
       "      <td>casado</td>\n",
       "      <td>superior</td>\n",
       "      <td>3.0</td>\n",
       "      <td>23.30</td>\n",
       "      <td>42</td>\n",
       "      <td>interior</td>\n",
       "    </tr>\n",
       "  </tbody>\n",
       "</table>\n",
       "</div>"
      ],
      "text/plain": [
       "   Estado Civil   Grau de Instrução  N de Filhos  Salario (x Sal Min)  Anos  \\\n",
       "0      solteiro  ensino fundamental          NaN                 4.00    26   \n",
       "1        casado  ensino fundamental          1.0                 4.56    32   \n",
       "2        casado  ensino fundamental          2.0                 5.25    36   \n",
       "3      solteiro        ensino médio          NaN                 5.73    20   \n",
       "4      solteiro  ensino fundamental          NaN                 6.26    40   \n",
       "5        casado  ensino fundamental          0.0                 6.66    28   \n",
       "6      solteiro  ensino fundamental          NaN                 6.86    41   \n",
       "7      solteiro  ensino fundamental          NaN                 7.39    43   \n",
       "8        casado        ensino médio          1.0                 7.59    34   \n",
       "9      solteiro        ensino médio          NaN                 7.44    23   \n",
       "10       casado        ensino médio          2.0                 8.12    33   \n",
       "11     solteiro  ensino fundamental          NaN                 8.46    27   \n",
       "12     solteiro        ensino médio          NaN                 8.74    37   \n",
       "13       casado  ensino fundamental          3.0                 8.95    44   \n",
       "14       casado        ensino médio          0.0                 9.13    30   \n",
       "15     solteiro        ensino médio          NaN                 9.35    38   \n",
       "16       casado        ensino médio          1.0                 9.77    31   \n",
       "17       casado  ensino fundamental          2.0                 9.80    39   \n",
       "18     solteiro            superior          NaN                10.53    25   \n",
       "19     solteiro        ensino médio          NaN                10.76    37   \n",
       "20       casado        ensino médio          1.0                11.06    30   \n",
       "21     solteiro        ensino médio          NaN                11.59    34   \n",
       "22     solteiro  ensino fundamental          NaN                12.00    41   \n",
       "23       casado            superior          0.0                12.79    26   \n",
       "24       casado        ensino médio          2.0                13.23    32   \n",
       "25       casado        ensino médio          2.0                13.60    35   \n",
       "26     solteiro  ensino fundamental          NaN                13.85    46   \n",
       "27       casado        ensino médio          0.0                14.69    29   \n",
       "28       casado        ensino médio          5.0                14.71    40   \n",
       "29       casado        ensino médio          2.0                15.99    35   \n",
       "30     solteiro            superior          NaN                16.22    31   \n",
       "31       casado        ensino médio          1.0                16.61    36   \n",
       "32       casado            superior          3.0                17.26    43   \n",
       "33     solteiro            superior          NaN                18.75    33   \n",
       "34       casado        ensino médio          2.0                19.40    48   \n",
       "35       casado            superior          3.0                23.30    42   \n",
       "\n",
       "   Região de Procedência  \n",
       "0               interior  \n",
       "1                capital  \n",
       "2                capital  \n",
       "3                  outra  \n",
       "4                  outra  \n",
       "5               interior  \n",
       "6               interior  \n",
       "7                capital  \n",
       "8                capital  \n",
       "9                  outra  \n",
       "10              interior  \n",
       "11               capital  \n",
       "12                 outra  \n",
       "13                 outra  \n",
       "14              interior  \n",
       "15                 outra  \n",
       "16               capital  \n",
       "17                 outra  \n",
       "18              interior  \n",
       "19              interior  \n",
       "20                 outra  \n",
       "21               capital  \n",
       "22                 outra  \n",
       "23                 outra  \n",
       "24              interior  \n",
       "25                 outra  \n",
       "26                 outra  \n",
       "27              interior  \n",
       "28              interior  \n",
       "29               capital  \n",
       "30                 outra  \n",
       "31              interior  \n",
       "32               capital  \n",
       "33               capital  \n",
       "34               capital  \n",
       "35              interior  "
      ]
     },
     "execution_count": 2,
     "metadata": {},
     "output_type": "execute_result"
    }
   ],
   "source": [
    "df = pd.read_csv('Dados_moretin.csv', sep=';', decimal=',')\n",
    "df"
   ]
  },
  {
   "cell_type": "code",
   "execution_count": 3,
   "id": "fbe77988",
   "metadata": {},
   "outputs": [
    {
     "name": "stdout",
     "output_type": "stream",
     "text": [
      "<class 'pandas.core.frame.DataFrame'>\n",
      "RangeIndex: 36 entries, 0 to 35\n",
      "Data columns (total 6 columns):\n",
      " #   Column                 Non-Null Count  Dtype  \n",
      "---  ------                 --------------  -----  \n",
      " 0   Estado Civil           36 non-null     object \n",
      " 1   Grau de Instrução      36 non-null     object \n",
      " 2   N de Filhos            20 non-null     float64\n",
      " 3   Salario (x Sal Min)    36 non-null     float64\n",
      " 4   Anos                   36 non-null     int64  \n",
      " 5   Região de Procedência  36 non-null     object \n",
      "dtypes: float64(2), int64(1), object(3)\n",
      "memory usage: 1.8+ KB\n"
     ]
    }
   ],
   "source": [
    "df.info()"
   ]
  },
  {
   "cell_type": "code",
   "execution_count": 4,
   "id": "783bc4ab",
   "metadata": {},
   "outputs": [
    {
     "data": {
      "text/plain": [
       "0     solteiro\n",
       "1       casado\n",
       "2       casado\n",
       "3     solteiro\n",
       "4     solteiro\n",
       "5       casado\n",
       "6     solteiro\n",
       "7     solteiro\n",
       "8       casado\n",
       "9     solteiro\n",
       "10      casado\n",
       "11    solteiro\n",
       "12    solteiro\n",
       "13      casado\n",
       "14      casado\n",
       "15    solteiro\n",
       "16      casado\n",
       "17      casado\n",
       "18    solteiro\n",
       "19    solteiro\n",
       "20      casado\n",
       "21    solteiro\n",
       "22    solteiro\n",
       "23      casado\n",
       "24      casado\n",
       "25      casado\n",
       "26    solteiro\n",
       "27      casado\n",
       "28      casado\n",
       "29      casado\n",
       "30    solteiro\n",
       "31      casado\n",
       "32      casado\n",
       "33    solteiro\n",
       "34      casado\n",
       "35      casado\n",
       "Name: Estado Civil, dtype: object"
      ]
     },
     "execution_count": 4,
     "metadata": {},
     "output_type": "execute_result"
    }
   ],
   "source": [
    "df['Estado Civil']"
   ]
  },
  {
   "cell_type": "code",
   "execution_count": 5,
   "id": "5e7f555d",
   "metadata": {},
   "outputs": [],
   "source": [
    "df['Estado Civil'] = df['Estado Civil'].astype('category')"
   ]
  },
  {
   "cell_type": "code",
   "execution_count": 6,
   "id": "37ae04de",
   "metadata": {},
   "outputs": [
    {
     "name": "stdout",
     "output_type": "stream",
     "text": [
      "<class 'pandas.core.frame.DataFrame'>\n",
      "RangeIndex: 36 entries, 0 to 35\n",
      "Data columns (total 6 columns):\n",
      " #   Column                 Non-Null Count  Dtype   \n",
      "---  ------                 --------------  -----   \n",
      " 0   Estado Civil           36 non-null     category\n",
      " 1   Grau de Instrução      36 non-null     object  \n",
      " 2   N de Filhos            20 non-null     float64 \n",
      " 3   Salario (x Sal Min)    36 non-null     float64 \n",
      " 4   Anos                   36 non-null     int64   \n",
      " 5   Região de Procedência  36 non-null     object  \n",
      "dtypes: category(1), float64(2), int64(1), object(2)\n",
      "memory usage: 1.7+ KB\n"
     ]
    }
   ],
   "source": [
    "df.info()"
   ]
  },
  {
   "cell_type": "code",
   "execution_count": 7,
   "id": "d673fde8",
   "metadata": {},
   "outputs": [
    {
     "data": {
      "text/plain": [
       "0     solteiro\n",
       "1       casado\n",
       "2       casado\n",
       "3     solteiro\n",
       "4     solteiro\n",
       "5       casado\n",
       "6     solteiro\n",
       "7     solteiro\n",
       "8       casado\n",
       "9     solteiro\n",
       "10      casado\n",
       "11    solteiro\n",
       "12    solteiro\n",
       "13      casado\n",
       "14      casado\n",
       "15    solteiro\n",
       "16      casado\n",
       "17      casado\n",
       "18    solteiro\n",
       "19    solteiro\n",
       "20      casado\n",
       "21    solteiro\n",
       "22    solteiro\n",
       "23      casado\n",
       "24      casado\n",
       "25      casado\n",
       "26    solteiro\n",
       "27      casado\n",
       "28      casado\n",
       "29      casado\n",
       "30    solteiro\n",
       "31      casado\n",
       "32      casado\n",
       "33    solteiro\n",
       "34      casado\n",
       "35      casado\n",
       "Name: Estado Civil, dtype: category\n",
       "Categories (2, object): ['casado', 'solteiro']"
      ]
     },
     "execution_count": 7,
     "metadata": {},
     "output_type": "execute_result"
    }
   ],
   "source": [
    "df['Estado Civil']"
   ]
  },
  {
   "cell_type": "code",
   "execution_count": 8,
   "id": "d376f469",
   "metadata": {},
   "outputs": [],
   "source": [
    "df[['Estado Civil', 'Grau de Instrução', 'Região de Procedência']] = df[['Estado Civil', 'Grau de Instrução', 'Região de Procedência']].astype('category')"
   ]
  },
  {
   "cell_type": "code",
   "execution_count": 9,
   "id": "7c2215d7",
   "metadata": {},
   "outputs": [
    {
     "name": "stdout",
     "output_type": "stream",
     "text": [
      "<class 'pandas.core.frame.DataFrame'>\n",
      "RangeIndex: 36 entries, 0 to 35\n",
      "Data columns (total 6 columns):\n",
      " #   Column                 Non-Null Count  Dtype   \n",
      "---  ------                 --------------  -----   \n",
      " 0   Estado Civil           36 non-null     category\n",
      " 1   Grau de Instrução      36 non-null     category\n",
      " 2   N de Filhos            20 non-null     float64 \n",
      " 3   Salario (x Sal Min)    36 non-null     float64 \n",
      " 4   Anos                   36 non-null     int64   \n",
      " 5   Região de Procedência  36 non-null     category\n",
      "dtypes: category(3), float64(2), int64(1)\n",
      "memory usage: 1.5 KB\n"
     ]
    }
   ],
   "source": [
    "df.info()"
   ]
  },
  {
   "cell_type": "code",
   "execution_count": 10,
   "id": "41b0cbb8",
   "metadata": {},
   "outputs": [
    {
     "data": {
      "text/plain": [
       "0     ensino fundamental\n",
       "1     ensino fundamental\n",
       "2     ensino fundamental\n",
       "3           ensino médio\n",
       "4     ensino fundamental\n",
       "5     ensino fundamental\n",
       "6     ensino fundamental\n",
       "7     ensino fundamental\n",
       "8           ensino médio\n",
       "9           ensino médio\n",
       "10          ensino médio\n",
       "11    ensino fundamental\n",
       "12          ensino médio\n",
       "13    ensino fundamental\n",
       "14          ensino médio\n",
       "15          ensino médio\n",
       "16          ensino médio\n",
       "17    ensino fundamental\n",
       "18              superior\n",
       "19          ensino médio\n",
       "20          ensino médio\n",
       "21          ensino médio\n",
       "22    ensino fundamental\n",
       "23              superior\n",
       "24          ensino médio\n",
       "25          ensino médio\n",
       "26    ensino fundamental\n",
       "27          ensino médio\n",
       "28          ensino médio\n",
       "29          ensino médio\n",
       "30              superior\n",
       "31          ensino médio\n",
       "32              superior\n",
       "33              superior\n",
       "34          ensino médio\n",
       "35              superior\n",
       "Name: Grau de Instrução, dtype: category\n",
       "Categories (3, object): ['ensino fundamental', 'ensino médio', 'superior']"
      ]
     },
     "execution_count": 10,
     "metadata": {},
     "output_type": "execute_result"
    }
   ],
   "source": [
    "df['Grau de Instrução']"
   ]
  },
  {
   "cell_type": "markdown",
   "id": "9dfce156",
   "metadata": {},
   "source": [
    "<div class=\"alert alert-block alert-info\" style=\"color:Blue;\">\n",
    "Como visualizar as categorias de uma variável?\n",
    "</div>"
   ]
  },
  {
   "cell_type": "code",
   "execution_count": 11,
   "id": "e602330d",
   "metadata": {},
   "outputs": [
    {
     "data": {
      "text/plain": [
       "['ensino fundamental', 'ensino médio', 'superior']\n",
       "Categories (3, object): ['ensino fundamental', 'ensino médio', 'superior']"
      ]
     },
     "execution_count": 11,
     "metadata": {},
     "output_type": "execute_result"
    }
   ],
   "source": [
    "df['Grau de Instrução'].unique()"
   ]
  },
  {
   "cell_type": "code",
   "execution_count": 12,
   "id": "d3389cd7",
   "metadata": {},
   "outputs": [
    {
     "data": {
      "text/plain": [
       "['solteiro', 'casado']\n",
       "Categories (2, object): ['casado', 'solteiro']"
      ]
     },
     "execution_count": 12,
     "metadata": {},
     "output_type": "execute_result"
    }
   ],
   "source": [
    "df['Estado Civil'].unique()"
   ]
  },
  {
   "cell_type": "markdown",
   "id": "4bb4ea84",
   "metadata": {},
   "source": [
    "<div class=\"alert alert-block alert-info\" style=\"color:Blue;\">\n",
    "Distribuição de frequencias absolutas\n",
    "</div>\n"
   ]
  },
  {
   "cell_type": "code",
   "execution_count": 13,
   "id": "47131f42",
   "metadata": {},
   "outputs": [
    {
     "data": {
      "text/plain": [
       "ensino médio          18\n",
       "ensino fundamental    12\n",
       "superior               6\n",
       "Name: Grau de Instrução, dtype: int64"
      ]
     },
     "execution_count": 13,
     "metadata": {},
     "output_type": "execute_result"
    }
   ],
   "source": [
    "df['Grau de Instrução'].value_counts()"
   ]
  },
  {
   "cell_type": "code",
   "execution_count": 14,
   "id": "8cfd64cf",
   "metadata": {},
   "outputs": [
    {
     "data": {
      "text/plain": [
       "casado      20\n",
       "solteiro    16\n",
       "Name: Estado Civil, dtype: int64"
      ]
     },
     "execution_count": 14,
     "metadata": {},
     "output_type": "execute_result"
    }
   ],
   "source": [
    "df['Estado Civil'].value_counts()"
   ]
  },
  {
   "cell_type": "markdown",
   "id": "38f20f55",
   "metadata": {},
   "source": [
    "* Número de ocorrências = frequência\n",
    "* frequencia absoluta: contagem direta de ocorrências de cada categoria"
   ]
  },
  {
   "cell_type": "markdown",
   "id": "66e8823e",
   "metadata": {},
   "source": [
    "Distribuição de frequências relativas"
   ]
  },
  {
   "cell_type": "code",
   "execution_count": 15,
   "id": "34fdf822",
   "metadata": {},
   "outputs": [
    {
     "data": {
      "text/plain": [
       "ensino médio          50.000000\n",
       "ensino fundamental    33.333333\n",
       "superior              16.666667\n",
       "Name: Grau de Instrução, dtype: float64"
      ]
     },
     "execution_count": 15,
     "metadata": {},
     "output_type": "execute_result"
    }
   ],
   "source": [
    "df['Grau de Instrução'].value_counts(normalize=True)*100"
   ]
  },
  {
   "cell_type": "code",
   "execution_count": 16,
   "id": "6d6baba6",
   "metadata": {},
   "outputs": [
    {
     "data": {
      "text/plain": [
       "casado      55.555556\n",
       "solteiro    44.444444\n",
       "Name: Estado Civil, dtype: float64"
      ]
     },
     "execution_count": 16,
     "metadata": {},
     "output_type": "execute_result"
    }
   ],
   "source": [
    "df['Estado Civil'].value_counts(normalize=True)*100"
   ]
  },
  {
   "cell_type": "markdown",
   "id": "f93d2f75",
   "metadata": {},
   "source": [
    "* frequencia relativa: $f_r = \\dfrac{f_a}{N}$\n",
    "em que $f_a$ é a frequencia absoluta e $N$ é o número total de ocorrências"
   ]
  }
 ],
 "metadata": {
  "kernelspec": {
   "display_name": "Python 3 (ipykernel)",
   "language": "python",
   "name": "python3"
  },
  "language_info": {
   "codemirror_mode": {
    "name": "ipython",
    "version": 3
   },
   "file_extension": ".py",
   "mimetype": "text/x-python",
   "name": "python",
   "nbconvert_exporter": "python",
   "pygments_lexer": "ipython3",
   "version": "3.9.12"
  }
 },
 "nbformat": 4,
 "nbformat_minor": 5
}
