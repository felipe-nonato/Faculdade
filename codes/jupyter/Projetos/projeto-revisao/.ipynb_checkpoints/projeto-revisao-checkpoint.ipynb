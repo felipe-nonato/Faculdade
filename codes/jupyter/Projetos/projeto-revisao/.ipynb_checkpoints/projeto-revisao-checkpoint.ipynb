{
 "cells": [
  {
   "cell_type": "markdown",
   "metadata": {},
   "source": [
    "<div class=\"alert alert-block alert-info\" style=\"border-radius: 8px;\n",
    "                                                 border: none;\n",
    "                                                 background-color: #9370DB;\n",
    "                                                 color: white;\">\n",
    "<center>ESTATÍSTICA APLICADA</center>\n",
    "<center>PROJETO REVISÃO</center>\n",
    "<center>ALUNO: Luís Felipe Ferreira Tavares Nonato</center>\n",
    "</div>"
   ]
  },
  {
   "cell_type": "markdown",
   "metadata": {},
   "source": [
    "<div class=\"alert alert-block alert-info\" style=\"border-radius: 8px;\n",
    "                                                 border: none;\n",
    "                                                 background-color: #9370DB;\n",
    "                                                 color: white;\">\n",
    "Questão 1\n",
    "    \n",
    "</div>"
   ]
  },
  {
   "cell_type": "markdown",
   "metadata": {},
   "source": [
    "Bloco para inserir texto com suas discussões"
   ]
  }
 ],
 "metadata": {
  "kernelspec": {
   "display_name": "Python 3 (ipykernel)",
   "language": "python",
   "name": "python3"
  },
  "language_info": {
   "codemirror_mode": {
    "name": "ipython",
    "version": 3
   },
   "file_extension": ".py",
   "mimetype": "text/x-python",
   "name": "python",
   "nbconvert_exporter": "python",
   "pygments_lexer": "ipython3",
   "version": "3.9.7"
  }
 },
 "nbformat": 4,
 "nbformat_minor": 4
}
