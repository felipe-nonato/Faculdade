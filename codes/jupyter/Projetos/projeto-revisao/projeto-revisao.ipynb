{
 "cells": [
  {
   "cell_type": "markdown",
   "metadata": {},
   "source": [
    "<div class=\"alert alert-block alert-info\" style=\"border-radius: 8px;\n",
    "                                                 border: none;\n",
    "                                                 background-color: #9370DB;\n",
    "                                                 color: white;\">\n",
    "<center>ESTATÍSTICA APLICADA</center>\n",
    "<center>PROJETO REVISÃO</center>\n",
    "<center>ALUNO: Luís Felipe Ferreira Tavares Nonato</center>\n",
    "</div>"
   ]
  },
  {
   "cell_type": "markdown",
   "metadata": {},
   "source": [
    "<div class=\"alert alert-block alert-info\" style=\"border-radius: 8px;\n",
    "                                                 border: none;\n",
    "                                                 background-color: #9370DB;\n",
    "                                                 text-align: center;\n",
    "                                                 color: white;\">\n",
    "Questão 1\n",
    "    \n",
    "</div>"
   ]
  },
  {
   "cell_type": "markdown",
   "metadata": {},
   "source": [
    "Importando bibliotecas necessarias"
   ]
  },
  {
   "cell_type": "code",
   "execution_count": 1,
   "metadata": {},
   "outputs": [],
   "source": [
    "import pandas as pd\n",
    "import numpy as np"
   ]
  },
  {
   "cell_type": "markdown",
   "metadata": {},
   "source": [
    "<div class=\"alert alert-block alert-info\" style=\"border-radius: 8px;\n",
    "                                                 border: none;\n",
    "                                                 background-color: #9370DB95;\n",
    "                                                 color: white;\">\n",
    "a)\n",
    "    \n",
    "</div>"
   ]
  },
  {
   "cell_type": "code",
   "execution_count": 2,
   "metadata": {},
   "outputs": [],
   "source": [
    "df_police = pd.read_csv('police.csv')"
   ]
  },
  {
   "cell_type": "code",
   "execution_count": 3,
   "metadata": {},
   "outputs": [
    {
     "name": "stdout",
     "output_type": "stream",
     "text": [
      "Número de Variáveis:  15\n"
     ]
    }
   ],
   "source": [
    "print(\"Número de Variáveis: \", len(df_police.columns))"
   ]
  },
  {
   "cell_type": "code",
   "execution_count": 4,
   "metadata": {
    "scrolled": true
   },
   "outputs": [
    {
     "name": "stdout",
     "output_type": "stream",
     "text": [
      "Número de ocorrências:  91741\n"
     ]
    }
   ],
   "source": [
    "print(\"Número de ocorrências: \", df_police['stop_date'].count())"
   ]
  },
  {
   "cell_type": "markdown",
   "metadata": {},
   "source": [
    "<div class=\"alert alert-block alert-info\" style=\"border-radius: 8px;\n",
    "                                                 border: none;\n",
    "                                                 background-color: #9370DB95;\n",
    "                                                 color: white;\">\n",
    "b)\n",
    "    \n",
    "</div>"
   ]
  },
  {
   "cell_type": "code",
   "execution_count": 5,
   "metadata": {},
   "outputs": [
    {
     "name": "stdout",
     "output_type": "stream",
     "text": [
      "Número de dados ausente por coluna: \n"
     ]
    },
    {
     "data": {
      "text/plain": [
       "state                     0\n",
       "stop_date                 0\n",
       "stop_time                 0\n",
       "county_name           91741\n",
       "driver_gender          5205\n",
       "driver_race            5202\n",
       "violation_raw          5202\n",
       "violation              5202\n",
       "search_conducted          0\n",
       "search_type           88434\n",
       "stop_outcome           5202\n",
       "is_arrested            5202\n",
       "stop_duration          5202\n",
       "drugs_related_stop        0\n",
       "district                  0\n",
       "dtype: int64"
      ]
     },
     "execution_count": 5,
     "metadata": {},
     "output_type": "execute_result"
    }
   ],
   "source": [
    "numeroOcorrencias =  df_police['stop_date'].count()\n",
    "print('Número de dados ausente por coluna: ')\n",
    "numeroOcorrencias-df_police.count()"
   ]
  },
  {
   "cell_type": "markdown",
   "metadata": {},
   "source": [
    "<div class=\"alert alert-block alert-info\" style=\"border-radius: 8px;\n",
    "                                                 border: none;\n",
    "                                                 background-color: #9370DB95;\n",
    "                                                 color: white;\">\n",
    "c)\n",
    "    \n",
    "</div>"
   ]
  },
  {
   "cell_type": "code",
   "execution_count": 6,
   "metadata": {},
   "outputs": [
    {
     "name": "stdout",
     "output_type": "stream",
     "text": [
      "<class 'pandas.core.frame.DataFrame'>\n",
      "RangeIndex: 91741 entries, 0 to 91740\n",
      "Data columns (total 15 columns):\n",
      " #   Column              Non-Null Count  Dtype  \n",
      "---  ------              --------------  -----  \n",
      " 0   state               91741 non-null  object \n",
      " 1   stop_date           91741 non-null  object \n",
      " 2   stop_time           91741 non-null  object \n",
      " 3   county_name         0 non-null      float64\n",
      " 4   driver_gender       86536 non-null  object \n",
      " 5   driver_race         86539 non-null  object \n",
      " 6   violation_raw       86539 non-null  object \n",
      " 7   violation           86539 non-null  object \n",
      " 8   search_conducted    91741 non-null  bool   \n",
      " 9   search_type         3307 non-null   object \n",
      " 10  stop_outcome        86539 non-null  object \n",
      " 11  is_arrested         86539 non-null  object \n",
      " 12  stop_duration       86539 non-null  object \n",
      " 13  drugs_related_stop  91741 non-null  bool   \n",
      " 14  district            91741 non-null  object \n",
      "dtypes: bool(2), float64(1), object(12)\n",
      "memory usage: 9.3+ MB\n"
     ]
    }
   ],
   "source": [
    "df_police.info()"
   ]
  },
  {
   "cell_type": "code",
   "execution_count": 7,
   "metadata": {},
   "outputs": [
    {
     "name": "stdout",
     "output_type": "stream",
     "text": [
      "<class 'pandas.core.frame.DataFrame'>\n",
      "RangeIndex: 91741 entries, 0 to 91740\n",
      "Data columns (total 13 columns):\n",
      " #   Column              Non-Null Count  Dtype \n",
      "---  ------              --------------  ----- \n",
      " 0   stop_date           91741 non-null  object\n",
      " 1   stop_time           91741 non-null  object\n",
      " 2   driver_gender       86536 non-null  object\n",
      " 3   driver_race         86539 non-null  object\n",
      " 4   violation_raw       86539 non-null  object\n",
      " 5   violation           86539 non-null  object\n",
      " 6   search_conducted    91741 non-null  bool  \n",
      " 7   search_type         3307 non-null   object\n",
      " 8   stop_outcome        86539 non-null  object\n",
      " 9   is_arrested         86539 non-null  object\n",
      " 10  stop_duration       86539 non-null  object\n",
      " 11  drugs_related_stop  91741 non-null  bool  \n",
      " 12  district            91741 non-null  object\n",
      "dtypes: bool(2), object(11)\n",
      "memory usage: 7.9+ MB\n"
     ]
    }
   ],
   "source": [
    "df_police.drop(\n",
    "    columns=[\n",
    "        'county_name',\n",
    "        'state'\n",
    "    ], inplace = True\n",
    ")\n",
    "\n",
    "df_police.info()"
   ]
  },
  {
   "cell_type": "markdown",
   "metadata": {},
   "source": [
    "<div class=\"alert alert-block alert-info\" style=\"border-radius: 8px;\n",
    "                                                 border: none;\n",
    "                                                 background-color: #9370DB95;\n",
    "                                                 color: white;\">\n",
    "d)\n",
    "    \n",
    "</div>"
   ]
  },
  {
   "cell_type": "code",
   "execution_count": 8,
   "metadata": {
    "scrolled": true
   },
   "outputs": [
    {
     "name": "stdout",
     "output_type": "stream",
     "text": [
      "<class 'pandas.core.frame.DataFrame'>\n",
      "Int64Index: 86539 entries, 0 to 91740\n",
      "Data columns (total 13 columns):\n",
      " #   Column              Non-Null Count  Dtype \n",
      "---  ------              --------------  ----- \n",
      " 0   stop_date           86539 non-null  object\n",
      " 1   stop_time           86539 non-null  object\n",
      " 2   driver_gender       86536 non-null  object\n",
      " 3   driver_race         86539 non-null  object\n",
      " 4   violation_raw       86539 non-null  object\n",
      " 5   violation           86539 non-null  object\n",
      " 6   search_conducted    86539 non-null  bool  \n",
      " 7   search_type         3307 non-null   object\n",
      " 8   stop_outcome        86539 non-null  object\n",
      " 9   is_arrested         86539 non-null  object\n",
      " 10  stop_duration       86539 non-null  object\n",
      " 11  drugs_related_stop  86539 non-null  bool  \n",
      " 12  district            86539 non-null  object\n",
      "dtypes: bool(2), object(11)\n",
      "memory usage: 8.1+ MB\n"
     ]
    }
   ],
   "source": [
    "df_police.dropna(thresh=8,inplace=True)\n",
    "df_police.info()"
   ]
  },
  {
   "cell_type": "markdown",
   "metadata": {},
   "source": [
    "<div class=\"alert alert-block alert-info\" style=\"border-radius: 8px;\n",
    "                                                 border: none;\n",
    "                                                 background-color: #9370DB95;\n",
    "                                                 color: white;\">\n",
    "e)\n",
    "    \n",
    "</div>"
   ]
  },
  {
   "cell_type": "markdown",
   "metadata": {},
   "source": [
    "- `search_conducted` (bool);\n",
    "- `is_arrested` (bool) → obs: não achado no data_readme;\n",
    "- `district` (string) → obs: numeros descritivos."
   ]
  },
  {
   "cell_type": "code",
   "execution_count": 15,
   "metadata": {},
   "outputs": [
    {
     "data": {
      "text/plain": [
       "stop_date             object\n",
       "stop_time             object\n",
       "driver_gender         object\n",
       "driver_race           object\n",
       "violation_raw         object\n",
       "violation             object\n",
       "search_conducted        bool\n",
       "search_type           object\n",
       "stop_outcome          object\n",
       "is_arrested             bool\n",
       "stop_duration         object\n",
       "drugs_related_stop      bool\n",
       "district              object\n",
       "dtype: object"
      ]
     },
     "execution_count": 15,
     "metadata": {},
     "output_type": "execute_result"
    }
   ],
   "source": [
    "df_police['is_arrested'] = df_police['is_arrested'].astype(bool)\n",
    "df_police.dtypes"
   ]
  },
  {
   "cell_type": "markdown",
   "metadata": {},
   "source": [
    "<div class=\"alert alert-block alert-info\" style=\"border-radius: 8px;\n",
    "                                                 border: none;\n",
    "                                                 background-color: #9370DB95;\n",
    "                                                 color: white;\">\n",
    "f)\n",
    "    \n",
    "</div>"
   ]
  },
  {
   "cell_type": "code",
   "execution_count": 22,
   "metadata": {},
   "outputs": [
    {
     "data": {
      "text/plain": [
       "0       2005-01-04 12:55:00\n",
       "1       2005-01-23 23:15:00\n",
       "2       2005-02-17 04:15:00\n",
       "3       2005-02-20 17:15:00\n",
       "4       2005-02-24 01:20:00\n",
       "                ...        \n",
       "91736   2015-12-31 21:21:00\n",
       "91737   2015-12-31 21:59:00\n",
       "91738   2015-12-31 22:04:00\n",
       "91739   2015-12-31 22:09:00\n",
       "91740   2015-12-31 22:47:00\n",
       "Name: stop_datetime, Length: 86539, dtype: datetime64[ns]"
      ]
     },
     "execution_count": 22,
     "metadata": {},
     "output_type": "execute_result"
    }
   ],
   "source": [
    "df_police['stop_datetime'] = df_police['stop_date'] + df_police['stop_time']\n",
    "df_police['stop_datetime'] = pd.to_datetime(df_police['stop_datetime'], format='%Y-%m-%d%H:%M')\n",
    "df_police['stop_datetime']"
   ]
  },
  {
   "cell_type": "markdown",
   "metadata": {},
   "source": [
    "<div class=\"alert alert-block alert-info\" style=\"border-radius: 8px;\n",
    "                                                 border: none;\n",
    "                                                 background-color: #9370DB;\n",
    "                                                 text-align: center;\n",
    "                                                 color: white;\">\n",
    "Questão 2\n",
    "    \n",
    "</div>"
   ]
  }
 ],
 "metadata": {
  "kernelspec": {
   "display_name": "Python 3 (ipykernel)",
   "language": "python",
   "name": "python3"
  },
  "language_info": {
   "codemirror_mode": {
    "name": "ipython",
    "version": 3
   },
   "file_extension": ".py",
   "mimetype": "text/x-python",
   "name": "python",
   "nbconvert_exporter": "python",
   "pygments_lexer": "ipython3",
   "version": "3.9.12"
  }
 },
 "nbformat": 4,
 "nbformat_minor": 4
}
