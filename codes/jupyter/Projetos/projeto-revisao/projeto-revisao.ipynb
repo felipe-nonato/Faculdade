{
 "cells": [
  {
   "cell_type": "markdown",
   "metadata": {},
   "source": [
    "<div class=\"alert alert-block alert-info\" style=\"border-radius: 8px;\n",
    "                                                 border: none;\n",
    "                                                 background-color: #9370DB;\n",
    "                                                 color: white;\">\n",
    "<center>ESTATÍSTICA APLICADA</center>\n",
    "<center>PROJETO REVISÃO</center>\n",
    "<center>ALUNO: Luís Felipe Ferreira Tavares Nonato</center>\n",
    "</div>"
   ]
  },
  {
   "cell_type": "markdown",
   "metadata": {},
   "source": [
    "<div class=\"alert alert-block alert-info\" style=\"border-radius: 8px;\n",
    "                                                 border: none;\n",
    "                                                 background-color: #9370DB;\n",
    "                                                 color: white;\">\n",
    "Questão 1\n",
    "    \n",
    "</div>"
   ]
  },
  {
   "cell_type": "markdown",
   "metadata": {},
   "source": [
    "Importando bibliotecas necessarias"
   ]
  },
  {
   "cell_type": "code",
   "execution_count": 1,
   "metadata": {},
   "outputs": [],
   "source": [
    "import pandas as pd\n",
    "import numpy as np"
   ]
  },
  {
   "cell_type": "markdown",
   "metadata": {},
   "source": [
    "<div class=\"alert alert-block alert-info\" style=\"border-radius: 8px;\n",
    "                                                 border: none;\n",
    "                                                 background-color: #9370DB95;\n",
    "                                                 color: white;\">\n",
    "a)\n",
    "    \n",
    "</div>"
   ]
  },
  {
   "cell_type": "code",
   "execution_count": 2,
   "metadata": {},
   "outputs": [],
   "source": [
    "df_police = pd.read_csv('police.csv')"
   ]
  },
  {
   "cell_type": "code",
   "execution_count": 3,
   "metadata": {},
   "outputs": [
    {
     "name": "stdout",
     "output_type": "stream",
     "text": [
      "Número de Variáveis:  15\n"
     ]
    }
   ],
   "source": [
    "print(\"Número de Variáveis: \", len(df_police.columns))"
   ]
  },
  {
   "cell_type": "code",
   "execution_count": 4,
   "metadata": {
    "scrolled": true
   },
   "outputs": [
    {
     "name": "stdout",
     "output_type": "stream",
     "text": [
      "Número de ocorrências:  91741\n"
     ]
    }
   ],
   "source": [
    "print(\"Número de ocorrências: \", df_police['stop_date'].count())"
   ]
  },
  {
   "cell_type": "markdown",
   "metadata": {},
   "source": [
    "<div class=\"alert alert-block alert-info\" style=\"border-radius: 8px;\n",
    "                                                 border: none;\n",
    "                                                 background-color: #9370DB95;\n",
    "                                                 color: white;\">\n",
    "b)\n",
    "    \n",
    "</div>"
   ]
  },
  {
   "cell_type": "code",
   "execution_count": 5,
   "metadata": {},
   "outputs": [
    {
     "name": "stdout",
     "output_type": "stream",
     "text": [
      "Número de dados ausente por coluna: \n"
     ]
    },
    {
     "data": {
      "text/plain": [
       "state                     0\n",
       "stop_date                 0\n",
       "stop_time                 0\n",
       "county_name           91741\n",
       "driver_gender          5205\n",
       "driver_race            5202\n",
       "violation_raw          5202\n",
       "violation              5202\n",
       "search_conducted          0\n",
       "search_type           88434\n",
       "stop_outcome           5202\n",
       "is_arrested            5202\n",
       "stop_duration          5202\n",
       "drugs_related_stop        0\n",
       "district                  0\n",
       "dtype: int64"
      ]
     },
     "execution_count": 5,
     "metadata": {},
     "output_type": "execute_result"
    }
   ],
   "source": [
    "numeroOcorrencias =  df_police['stop_date'].count()\n",
    "print('Número de dados ausente por coluna: ')\n",
    "numeroOcorrencias-df_police.count()"
   ]
  },
  {
   "cell_type": "markdown",
   "metadata": {},
   "source": [
    "<div class=\"alert alert-block alert-info\" style=\"border-radius: 8px;\n",
    "                                                 border: none;\n",
    "                                                 background-color: #9370DB95;\n",
    "                                                 color: white;\">\n",
    "c)\n",
    "    \n",
    "</div>"
   ]
  },
  {
   "cell_type": "code",
   "execution_count": 6,
   "metadata": {},
   "outputs": [
    {
     "name": "stdout",
     "output_type": "stream",
     "text": [
      "<class 'pandas.core.frame.DataFrame'>\n",
      "RangeIndex: 91741 entries, 0 to 91740\n",
      "Data columns (total 15 columns):\n",
      " #   Column              Non-Null Count  Dtype  \n",
      "---  ------              --------------  -----  \n",
      " 0   state               91741 non-null  object \n",
      " 1   stop_date           91741 non-null  object \n",
      " 2   stop_time           91741 non-null  object \n",
      " 3   county_name         0 non-null      float64\n",
      " 4   driver_gender       86536 non-null  object \n",
      " 5   driver_race         86539 non-null  object \n",
      " 6   violation_raw       86539 non-null  object \n",
      " 7   violation           86539 non-null  object \n",
      " 8   search_conducted    91741 non-null  bool   \n",
      " 9   search_type         3307 non-null   object \n",
      " 10  stop_outcome        86539 non-null  object \n",
      " 11  is_arrested         86539 non-null  object \n",
      " 12  stop_duration       86539 non-null  object \n",
      " 13  drugs_related_stop  91741 non-null  bool   \n",
      " 14  district            91741 non-null  object \n",
      "dtypes: bool(2), float64(1), object(12)\n",
      "memory usage: 9.3+ MB\n"
     ]
    }
   ],
   "source": [
    "df_police.info()"
   ]
  },
  {
   "cell_type": "code",
   "execution_count": 7,
   "metadata": {},
   "outputs": [
    {
     "name": "stdout",
     "output_type": "stream",
     "text": [
      "<class 'pandas.core.frame.DataFrame'>\n",
      "RangeIndex: 91741 entries, 0 to 91740\n",
      "Data columns (total 13 columns):\n",
      " #   Column              Non-Null Count  Dtype \n",
      "---  ------              --------------  ----- \n",
      " 0   stop_date           91741 non-null  object\n",
      " 1   stop_time           91741 non-null  object\n",
      " 2   driver_gender       86536 non-null  object\n",
      " 3   driver_race         86539 non-null  object\n",
      " 4   violation_raw       86539 non-null  object\n",
      " 5   violation           86539 non-null  object\n",
      " 6   search_conducted    91741 non-null  bool  \n",
      " 7   search_type         3307 non-null   object\n",
      " 8   stop_outcome        86539 non-null  object\n",
      " 9   is_arrested         86539 non-null  object\n",
      " 10  stop_duration       86539 non-null  object\n",
      " 11  drugs_related_stop  91741 non-null  bool  \n",
      " 12  district            91741 non-null  object\n",
      "dtypes: bool(2), object(11)\n",
      "memory usage: 7.9+ MB\n"
     ]
    }
   ],
   "source": [
    "df_police.drop(\n",
    "    columns=[\n",
    "        'county_name',\n",
    "        'state'\n",
    "    ], inplace = True\n",
    ")\n",
    "\n",
    "df_police.info()"
   ]
  },
  {
   "cell_type": "markdown",
   "metadata": {},
   "source": [
    "<div class=\"alert alert-block alert-info\" style=\"border-radius: 8px;\n",
    "                                                 border: none;\n",
    "                                                 background-color: #9370DB95;\n",
    "                                                 color: white;\">\n",
    "d)\n",
    "    \n",
    "</div>"
   ]
  },
  {
   "cell_type": "code",
   "execution_count": 12,
   "metadata": {},
   "outputs": [
    {
     "name": "stdout",
     "output_type": "stream",
     "text": [
      "<class 'pandas.core.frame.DataFrame'>\n",
      "Int64Index: 86539 entries, 0 to 91740\n",
      "Data columns (total 13 columns):\n",
      " #   Column              Non-Null Count  Dtype \n",
      "---  ------              --------------  ----- \n",
      " 0   stop_date           86539 non-null  object\n",
      " 1   stop_time           86539 non-null  object\n",
      " 2   driver_gender       86536 non-null  object\n",
      " 3   driver_race         86539 non-null  object\n",
      " 4   violation_raw       86539 non-null  object\n",
      " 5   violation           86539 non-null  object\n",
      " 6   search_conducted    86539 non-null  bool  \n",
      " 7   search_type         3307 non-null   object\n",
      " 8   stop_outcome        86539 non-null  object\n",
      " 9   is_arrested         86539 non-null  object\n",
      " 10  stop_duration       86539 non-null  object\n",
      " 11  drugs_related_stop  86539 non-null  bool  \n",
      " 12  district            86539 non-null  object\n",
      "dtypes: bool(2), object(11)\n",
      "memory usage: 8.1+ MB\n"
     ]
    }
   ],
   "source": [
    "df_police.dropna(thresh=8,inplace=True)\n",
    "df_police.info()"
   ]
  }
 ],
 "metadata": {
  "kernelspec": {
   "display_name": "Python 3 (ipykernel)",
   "language": "python",
   "name": "python3"
  },
  "language_info": {
   "codemirror_mode": {
    "name": "ipython",
    "version": 3
   },
   "file_extension": ".py",
   "mimetype": "text/x-python",
   "name": "python",
   "nbconvert_exporter": "python",
   "pygments_lexer": "ipython3",
   "version": "3.9.12"
  }
 },
 "nbformat": 4,
 "nbformat_minor": 4
}
